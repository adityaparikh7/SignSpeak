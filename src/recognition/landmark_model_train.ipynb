{
 "cells": [
  {
   "cell_type": "code",
   "execution_count": 33,
   "metadata": {},
   "outputs": [
    {
     "name": "stdout",
     "output_type": "stream",
     "text": [
      "Training samples: 63\n",
      "Validation samples: 13\n",
      "Testing samples: 14\n",
      "Shape of X_train: (63, 30, 21)\n",
      "Shape of X_val: (13, 30, 21)\n"
     ]
    }
   ],
   "source": [
    "import numpy as np\n",
    "import pandas as pd\n",
    "from sklearn.model_selection import train_test_split\n",
    "from sklearn.preprocessing import LabelEncoder\n",
    "from tensorflow.keras.utils import to_categorical\n",
    "\n",
    "# Load labeled landmarks and corresponding labels\n",
    "# df = pd.read_csv('data/processed/labeled_hand_landmarks.csv')\n",
    "# df = pd.read_csv('E:\\Projects\\Sign Language Project\\SignSpeak\\data\\processed\\labeled_hand_landmarks.csv')\n",
    "df = pd.read_csv('E:\\Projects\\Sign Language Project\\SignSpeak\\data\\processed\\simple_signs\\labeled_hand_landmarks.csv')\n",
    "\n",
    "# Number of frames per sequence\n",
    "NUM_FRAMES = 30  # Adjust based on your video data\n",
    "\n",
    "# Reshape the data into sequences of frames\n",
    "def create_sequences(data, labels, num_frames=NUM_FRAMES):\n",
    "    sequences, sequence_labels = [], []\n",
    "    for i in range(len(data) - num_frames):\n",
    "        # Take a sequence of num_frames\n",
    "        sequence = data[i:i+num_frames]\n",
    "        sequences.append(sequence)\n",
    "        # Use the label of the last frame in the sequence\n",
    "        sequence_labels.append(labels[i + num_frames - 1])\n",
    "    return np.array(sequences), np.array(sequence_labels)\n",
    "\n",
    "# Drop the label column\n",
    "X = df.drop('label', axis=1).values\n",
    "y = df['label'].values\n",
    "\n",
    "# Reshape the data into sequences of frames\n",
    "X_seq, y_seq = create_sequences(X, y, NUM_FRAMES)\n",
    "\n",
    "# Encode labels\n",
    "label_encoder = LabelEncoder()\n",
    "y_seq_encoded = label_encoder.fit_transform(y_seq)\n",
    "y_seq_encoded = to_categorical(y_seq_encoded)\n",
    "\n",
    "# Split into train, validation, and test sets\n",
    "X_train, X_temp, y_train, y_temp = train_test_split(X_seq, y_seq_encoded, test_size=0.3, random_state=42)\n",
    "X_val, X_test, y_val, y_test = train_test_split(X_temp, y_temp, test_size=0.5, random_state=42)\n",
    "\n",
    "print(f\"Training samples: {X_train.shape[0]}\")\n",
    "print(f\"Validation samples: {X_val.shape[0]}\")\n",
    "print(f\"Testing samples: {X_test.shape[0]}\")\n",
    "\n",
    "# Verify the shape of X_train and X_val\n",
    "print(f\"Shape of X_train: {X_train.shape}\")\n",
    "print(f\"Shape of X_val: {X_val.shape}\")\n",
    "\n",
    "# Reshape X_train and X_val if necessary\n",
    "# X_train = X_train.reshape((-1, 30, 63))\n",
    "# X_val = X_val.reshape((-1, 30, 63))"
   ]
  },
  {
   "cell_type": "code",
   "execution_count": 34,
   "metadata": {},
   "outputs": [
    {
     "name": "stdout",
     "output_type": "stream",
     "text": [
      "Model: \"sequential_10\"\n",
      "_________________________________________________________________\n",
      " Layer (type)                Output Shape              Param #   \n",
      "=================================================================\n",
      " lstm_20 (LSTM)              (None, 30, 64)            32768     \n",
      "                                                                 \n",
      " dropout_30 (Dropout)        (None, 30, 64)            0         \n",
      "                                                                 \n",
      " lstm_21 (LSTM)              (None, 64)                33024     \n",
      "                                                                 \n",
      " dropout_31 (Dropout)        (None, 64)                0         \n",
      "                                                                 \n",
      " dense_20 (Dense)            (None, 64)                4160      \n",
      "                                                                 \n",
      " dropout_32 (Dropout)        (None, 64)                0         \n",
      "                                                                 \n",
      " dense_21 (Dense)            (None, 4)                 260       \n",
      "                                                                 \n",
      "=================================================================\n",
      "Total params: 70212 (274.27 KB)\n",
      "Trainable params: 70212 (274.27 KB)\n",
      "Non-trainable params: 0 (0.00 Byte)\n",
      "_________________________________________________________________\n"
     ]
    }
   ],
   "source": [
    "import tensorflow as tf\n",
    "from tensorflow.keras.models import Sequential\n",
    "from tensorflow.keras.layers import LSTM, Dense, Dropout\n",
    "\n",
    "# Define LSTM model\n",
    "def build_lstm_model(input_shape, num_classes):\n",
    "    model = Sequential()\n",
    "\n",
    "    # LSTM layers\n",
    "    model.add(LSTM(64, return_sequences=True, input_shape=input_shape))\n",
    "    model.add(Dropout(0.2))\n",
    "\n",
    "    model.add(LSTM(64))\n",
    "    model.add(Dropout(0.2))\n",
    "\n",
    "    # Fully connected layer\n",
    "    model.add(Dense(64, activation='relu'))\n",
    "    model.add(Dropout(0.2))\n",
    "\n",
    "    # Output layer\n",
    "    model.add(Dense(num_classes, activation='softmax'))\n",
    "\n",
    "    # Compile the model\n",
    "    model.compile(optimizer='adam', loss='categorical_crossentropy', metrics=['accuracy'])\n",
    "    \n",
    "    return model\n",
    "\n",
    "# Define input shape\n",
    "input_shape = (NUM_FRAMES, 63)  # 30 frames, 63 keypoints per frame\n",
    "num_classes = y_train.shape[1]\n",
    "\n",
    "# Build the model\n",
    "model = build_lstm_model(input_shape, num_classes)\n",
    "\n",
    "# Model summary\n",
    "model.summary()\n"
   ]
  },
  {
   "cell_type": "code",
   "execution_count": 35,
   "metadata": {},
   "outputs": [
    {
     "ename": "ValueError",
     "evalue": "The total number of elements in X_train or X_val is not divisible by 30 * 63",
     "output_type": "error",
     "traceback": [
      "\u001b[1;31m---------------------------------------------------------------------------\u001b[0m",
      "\u001b[1;31mValueError\u001b[0m                                Traceback (most recent call last)",
      "Cell \u001b[1;32mIn[35], line 7\u001b[0m\n\u001b[0;32m      5\u001b[0m     X_val \u001b[38;5;241m=\u001b[39m X_val\u001b[38;5;241m.\u001b[39mreshape((\u001b[38;5;241m-\u001b[39m\u001b[38;5;241m1\u001b[39m, \u001b[38;5;241m30\u001b[39m, \u001b[38;5;241m63\u001b[39m))\n\u001b[0;32m      6\u001b[0m \u001b[38;5;28;01melse\u001b[39;00m:\n\u001b[1;32m----> 7\u001b[0m     \u001b[38;5;28;01mraise\u001b[39;00m \u001b[38;5;167;01mValueError\u001b[39;00m(\n\u001b[0;32m      8\u001b[0m         \u001b[38;5;124m\"\u001b[39m\u001b[38;5;124mThe total number of elements in X_train or X_val is not divisible by 30 * 63\u001b[39m\u001b[38;5;124m\"\u001b[39m)\n\u001b[0;32m     10\u001b[0m \u001b[38;5;66;03m# Set training parameters\u001b[39;00m\n\u001b[0;32m     12\u001b[0m batch_size \u001b[38;5;241m=\u001b[39m \u001b[38;5;241m32\u001b[39m\n",
      "\u001b[1;31mValueError\u001b[0m: The total number of elements in X_train or X_val is not divisible by 30 * 63"
     ]
    }
   ],
   "source": [
    "# Check if the total number of elements is divisible by 30 * 63\n",
    "if X_train.size % (30 * 63) == 0 and X_val.size % (30 * 63) == 0:\n",
    "    # Reshape X_train and X_val if necessary\n",
    "    X_train = X_train.reshape((-1, 30, 63))\n",
    "    X_val = X_val.reshape((-1, 30, 63))\n",
    "else:\n",
    "    raise ValueError(\n",
    "        \"The total number of elements in X_train or X_val is not divisible by 30 * 63\")\n",
    "\n",
    "# Set training parameters\n",
    "\n",
    "batch_size = 32\n",
    "epochs = 30\n",
    "\n",
    "\n",
    "# Train the model\n",
    "\n",
    "history = model.fit(X_train, y_train, validation_data=(\n",
    "    X_val, y_val), epochs=epochs, batch_size=batch_size)\n",
    "\n",
    "\n",
    "\n",
    "\n",
    "# Save the model after training\n",
    "\n",
    "\n",
    "model.save('models/landmark models/sign_language_lstm.h5')"
   ]
  },
  {
   "cell_type": "code",
   "execution_count": null,
   "metadata": {},
   "outputs": [],
   "source": [
    "# Evaluate the model on the test set\n",
    "test_loss, test_accuracy = model.evaluate(\n",
    "    X_test, y_test, batch_size=batch_size)\n",
    "\n",
    "print(f\"Test Loss: {test_loss}\")\n",
    "print(f\"Test Accuracy: {test_accuracy}\")"
   ]
  },
  {
   "cell_type": "code",
   "execution_count": null,
   "metadata": {},
   "outputs": [],
   "source": [
    "import matplotlib.pyplot as plt\n",
    "\n",
    "# Plot training & validation accuracy values\n",
    "plt.plot(history.history['accuracy'])\n",
    "plt.plot(history.history['val_accuracy'])\n",
    "plt.title('Model accuracy')\n",
    "plt.ylabel('Accuracy')\n",
    "plt.xlabel('Epoch')\n",
    "plt.legend(['Train', 'Validation'], loc='upper left')\n",
    "plt.show()\n",
    "\n",
    "# Plot training & validation loss values\n",
    "plt.plot(history.history['loss'])\n",
    "plt.plot(history.history['val_loss'])\n",
    "plt.title('Model loss')\n",
    "plt.ylabel('Loss')\n",
    "plt.xlabel('Epoch')\n",
    "plt.legend(['Train', 'Validation'], loc='upper left')\n",
    "plt.show()"
   ]
  }
 ],
 "metadata": {
  "kernelspec": {
   "display_name": "Python 3",
   "language": "python",
   "name": "python3"
  },
  "language_info": {
   "codemirror_mode": {
    "name": "ipython",
    "version": 3
   },
   "file_extension": ".py",
   "mimetype": "text/x-python",
   "name": "python",
   "nbconvert_exporter": "python",
   "pygments_lexer": "ipython3",
   "version": "3.11.4"
  }
 },
 "nbformat": 4,
 "nbformat_minor": 2
}
