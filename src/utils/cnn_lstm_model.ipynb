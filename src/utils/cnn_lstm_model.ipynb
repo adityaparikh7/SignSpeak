{
 "cells": [
  {
   "cell_type": "code",
   "execution_count": null,
   "metadata": {},
   "outputs": [],
   "source": [
    "import numpy as np\n",
    "from tensorflow.keras.models import Sequential\n",
    "from tensorflow.keras.layers import Conv1D, MaxPooling1D, LSTM, Dense, Dropout, TimeDistributed, Flatten\n",
    "from tensorflow.keras.utils import to_categorical\n"
   ]
  },
  {
   "cell_type": "code",
   "execution_count": null,
   "metadata": {},
   "outputs": [],
   "source": [
    "# Load the saved numpy arrays\n",
    "from sklearn.preprocessing import LabelEncoder\n",
    "X_train = np.load('data/processed/X_train.npy')\n",
    "y_train = np.load('data/processed/y_train.npy')\n",
    "X_val = np.load('data/processed/X_val.npy')\n",
    "y_val = np.load('data/processed/y_val.npy')\n",
    "X_test = np.load('data/processed/X_test.npy')\n",
    "y_test = np.load('data/processed/y_test.npy')\n",
    "\n",
    "# Convert labels to one-hot encoding\n",
    "\n",
    "label_encoder = LabelEncoder()\n",
    "y_train_enc = label_encoder.fit_transform(y_train)\n",
    "y_val_enc = label_encoder.transform(y_val)\n",
    "y_test_enc = label_encoder.transform(y_test)\n",
    "\n",
    "num_classes = len(label_encoder.classes_)\n",
    "y_train_cat = to_categorical(y_train_enc, num_classes)\n",
    "y_val_cat = to_categorical(y_val_enc, num_classes)\n",
    "y_test_cat = to_categorical(y_test_enc, num_classes)\n",
    "\n",
    "# Reshape input data if necessary\n",
    "# For LSTM input, data should be in shape (samples, time_steps, features)\n",
    "# If your data is already sequences, adjust time_steps accordingly\n",
    "time_steps = 1  # Adjust based on how you structure your sequences\n",
    "features = X_train.shape[1]  # Number of features per time step\n",
    "\n",
    "X_train = X_train.reshape((X_train.shape[0], time_steps, features))\n",
    "X_val = X_val.reshape((X_val.shape[0], time_steps, features))\n",
    "X_test = X_test.reshape((X_test.shape[0], time_steps, features))"
   ]
  },
  {
   "cell_type": "code",
   "execution_count": null,
   "metadata": {},
   "outputs": [],
   "source": [
    "model = Sequential()\n",
    "\n",
    "# CNN layers\n",
    "model.add(TimeDistributed(Conv1D(filters=64, kernel_size=3,\n",
    "          activation='relu'), input_shape=(None, features, 1)))\n",
    "model.add(TimeDistributed(MaxPooling1D(pool_size=2)))\n",
    "model.add(TimeDistributed(Flatten()))\n",
    "\n",
    "# LSTM layers\n",
    "model.add(LSTM(100, return_sequences=False))\n",
    "model.add(Dropout(0.5))\n",
    "\n",
    "# Fully connected output layer\n",
    "model.add(Dense(num_classes, activation='softmax'))\n",
    "\n",
    "# Compile the model\n",
    "model.compile(loss='categorical_crossentropy',\n",
    "              optimizer='adam', metrics=['accuracy'])\n",
    "\n",
    "model.summary()"
   ]
  },
  {
   "cell_type": "code",
   "execution_count": null,
   "metadata": {},
   "outputs": [],
   "source": [
    "# Fit the model\n",
    "history = model.fit(\n",
    "    X_train,\n",
    "    y_train_cat,\n",
    "    validation_data=(X_val, y_val_cat),\n",
    "    epochs=50,\n",
    "    batch_size=32,\n",
    "    verbose=1\n",
    ")"
   ]
  },
  {
   "cell_type": "code",
   "execution_count": null,
   "metadata": {},
   "outputs": [],
   "source": [
    "# Evaluate on test data\n",
    "test_loss, test_accuracy = model.evaluate(X_test, y_test_cat, verbose=0)\n",
    "print(f\"Test Accuracy: {test_accuracy * 100:.2f}%\")"
   ]
  },
  {
   "cell_type": "code",
   "execution_count": null,
   "metadata": {},
   "outputs": [],
   "source": [
    "# Predict classes\n",
    "y_pred = model.predict(X_test)\n",
    "y_pred_classes = np.argmax(y_pred, axis=1)\n",
    "\n",
    "# Convert back to original labels\n",
    "y_pred_labels = label_encoder.inverse_transform(y_pred_classes)"
   ]
  },
  {
   "cell_type": "code",
   "execution_count": null,
   "metadata": {},
   "outputs": [],
   "source": [
    "from sklearn.metrics import classification_report, confusion_matrix\n",
    "import seaborn as sns\n",
    "import matplotlib.pyplot as plt\n",
    "\n",
    "# Classification report\n",
    "print(classification_report(y_test_enc, y_pred_classes,\n",
    "      target_names=label_encoder.classes_))\n",
    "\n",
    "# Confusion matrix\n",
    "cm = confusion_matrix(y_test_enc, y_pred_classes)\n",
    "sns.heatmap(cm, annot=True, fmt='d', xticklabels=label_encoder.classes_,\n",
    "            yticklabels=label_encoder.classes_)\n",
    "plt.xlabel('Predicted')\n",
    "plt.ylabel('True')\n",
    "plt.show()"
   ]
  }
 ],
 "metadata": {
  "kernelspec": {
   "display_name": "Python 3",
   "language": "python",
   "name": "python3"
  },
  "language_info": {
   "name": "python",
   "version": "3.11.4"
  }
 },
 "nbformat": 4,
 "nbformat_minor": 2
}
